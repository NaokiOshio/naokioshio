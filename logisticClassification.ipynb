{
  "nbformat": 4,
  "nbformat_minor": 0,
  "metadata": {
    "kernelspec": {
      "display_name": "Python 3",
      "language": "python",
      "name": "python3"
    },
    "language_info": {
      "codemirror_mode": {
        "name": "ipython",
        "version": 3
      },
      "file_extension": ".py",
      "mimetype": "text/x-python",
      "name": "python",
      "nbconvert_exporter": "python",
      "pygments_lexer": "ipython3",
      "version": "3.7.0"
    },
    "colab": {
      "name": "logisticClassification.ipynb",
      "provenance": [],
      "collapsed_sections": [],
      "toc_visible": true
    }
  },
  "cells": [
    {
      "cell_type": "markdown",
      "metadata": {
        "id": "ejysy1J7DvbM"
      },
      "source": [
        "# ロジスティック回帰を利用したクラス分類\n",
        "氏名:鴛尾 直樹  \n",
        "学籍番号:20N2100010D"
      ]
    },
    {
      "cell_type": "markdown",
      "metadata": {
        "id": "nFlh7NMenHvr"
      },
      "source": [
        "## 概要\n"
      ]
    },
    {
      "cell_type": "markdown",
      "metadata": {
        "id": "MhbdnU6EoKr1"
      },
      "source": [
        "機械学習と分類問題の理解を目的として、「身長と体重から男性か女性かを予測して見分ける分類器」の作成を試みる。\n",
        "モデルはロジスティック回帰モデル、学習方法はニュートン法を採用する。"
      ]
    },
    {
      "cell_type": "markdown",
      "metadata": {
        "id": "sWVnBvufEQ3s"
      },
      "source": [
        "### 問題設定とアプローチ\n"
      ]
    },
    {
      "cell_type": "markdown",
      "metadata": {
        "id": "hIMJOOS1FRle"
      },
      "source": [
        "タスク：身長と体重から性別を分類する(2クラス分類)  \n",
        "モデリング：ロジスティック回帰  \n",
        "学習方法：ニュートン法  "
      ]
    },
    {
      "cell_type": "markdown",
      "metadata": {
        "id": "wfW-WUyhINEZ"
      },
      "source": [
        "【データについて】   \n",
        "特徴量：身長、体重  \n",
        "クラス：男、女  \n",
        "今回使用するデータ（訓練データ・テストデータ）は、冒頭で人工的に生成することにする。"
      ]
    },
    {
      "cell_type": "markdown",
      "metadata": {
        "id": "mghxBfepHry3"
      },
      "source": [
        "## 準備"
      ]
    },
    {
      "cell_type": "markdown",
      "metadata": {
        "id": "kVy1YVreA5UP"
      },
      "source": [
        "### 人工データの生成\n",
        "特徴量$(体重,身長)$、ラベル:$(男,女)$を持ったデータセットを人工的に生成する。"
      ]
    },
    {
      "cell_type": "code",
      "metadata": {
        "id": "XUzK_5fFF6s4"
      },
      "source": [
        "%matplotlib inline\n",
        "import matplotlib.pyplot as plt\n",
        "import numpy as np\n",
        "import pandas as pd"
      ],
      "execution_count": null,
      "outputs": []
    },
    {
      "cell_type": "code",
      "metadata": {
        "colab": {
          "base_uri": "https://localhost:8080/",
          "height": 297
        },
        "id": "i-beMrr6J8SV",
        "outputId": "25aecafa-b97b-4d6b-aac2-c5804015cadd"
      },
      "source": [
        "#人工の訓練データセットを生成(特徴量:身長、体重/クラス:性別)\n",
        "#訓練データ生成時の乱数の種は1とする。\n",
        "np.random.seed(1)\n",
        "\n",
        "#訓練データの個数（各性別の個数。実際にはこれの2倍）\n",
        "num_train = 1000\n",
        "\n",
        "#データ生成\n",
        "male = pd.DataFrame()\n",
        "female = pd.DataFrame()\n",
        "\n",
        "m_height = np.random.normal(171.7,6.6,num_train)\n",
        "f_height = np.random.normal(158.3,5.7,num_train)\n",
        "\n",
        "m_bmi = np.random.normal(23.12,2,num_train)\n",
        "f_bmi = np.random.normal(20.82,2,num_train)\n",
        "\n",
        "male[\"height\"] =np.sort(m_height)\n",
        "male[\"weight\"] = (male[\"height\"] * 0.01) ** 2 * m_bmi\n",
        "male[\"sex\"] = 1 #男：1,女:0とする\n",
        "\n",
        "female[\"height\"] = np.sort(f_height)\n",
        "female[\"weight\"] = (female[\"height\"] * 0.01) ** 2 * f_bmi\n",
        "female[\"sex\"] = 0 #男：1,女:0とする\n",
        "\n",
        "#データ連結\n",
        "df = pd.concat([male,female]) # 2*num_train個の全てのデータセット \n",
        "#インデックスの付けなおし(仕様上必要なおまじない)\n",
        "df.index = range(0,len(df))\n",
        "#print(df.index.duplicated())\n",
        "\n",
        "#可視化\n",
        "fig, ax = plt.subplots()\n",
        "ax.set_xlabel(\"height\")\n",
        "ax.set_ylabel(\"weight\")\n",
        "ax.scatter(male[\"height\"],male[\"weight\"] , marker='o', c='b') # 男\n",
        "ax.scatter(female[\"height\"],female[\"weight\"] , marker='s',  c='r') #女\n",
        "\n",
        "# このままで線形分離可能なので、この特徴量をそのまま使う。"
      ],
      "execution_count": null,
      "outputs": [
        {
          "output_type": "execute_result",
          "data": {
            "text/plain": [
              "<matplotlib.collections.PathCollection at 0x7fec69336400>"
            ]
          },
          "metadata": {
            "tags": []
          },
          "execution_count": 37
        },
        {
          "output_type": "display_data",
          "data": {
            "image/png": "[encoded data removed]",
            "text/plain": [
              "<Figure size 432x288 with 1 Axes>"
            ]
          },
          "metadata": {
            "tags": [],
            "needs_background": "light"
          }
        }
      ]
    },
    {
      "cell_type": "markdown",
      "metadata": {
        "id": "bifXV2QfvuhT"
      },
      "source": [
        "### 特徴量の基底の選択\n",
        "線形分離可能な形のデータなので、非線形な基底は特に加えず、生のデータの特徴量をそのまま基底に採用する。"
      ]
    },
    {
      "cell_type": "code",
      "metadata": {
        "id": "VBI03uAXZ4NT",
        "colab": {
          "base_uri": "https://localhost:8080/"
        },
        "outputId": "90c1bf8f-4efd-46b5-a1b1-f8c7623f7506"
      },
      "source": [
        "#特徴量の基底を決める\n",
        "def feature(x1,x2):\n",
        "    phi = np.row_stack((np.ones(len(x1)),x1))\n",
        "    phi = np.row_stack((phi,x2))\n",
        "#    phi = np.row_stack((phi,x1*x2))\n",
        "#    phi = np.row_stack((phi,x1**2))\n",
        "#    phi = np.row_stack((phi,x2**2))\n",
        "#    phi = np.row_stack((phi,x1**3))\n",
        "#    phi = np.row_stack((phi,x2**3))\n",
        "#    phi = np.row_stack((phi,x1*x1*x2))\n",
        "#    phi = np.row_stack((phi,x1*x2*x2))\n",
        "#    phi = np.row_stack((phi,x1**4))\n",
        "#    phi = np.row_stack((phi,x2**4))\n",
        "#    phi = np.row_stack((phi,x1*x1*x1*x2))\n",
        "#    phi = np.row_stack((phi,x1*x1*x2*x2))\n",
        "#    phi = np.row_stack((phi,x1*x2*x2*x2))\n",
        "    return(phi.T)  # 見やすさのため、縦に並べた形にする\n",
        "\n",
        "# phi:全訓練データの特徴ベクトルを縦に並べたもの(サイズ＝データ数×基底数 の行列)\n",
        "phi = feature(df[\"height\"],df[\"weight\"]) \n",
        "d = len(phi[0]) #特徴量の個数 \n",
        "# y:全訓練データのラベル(クラス)を並べたもの\n",
        "y = df[\"sex\"]\n",
        "print(\"y:\",y)\n",
        "\n",
        "print(\"phi:\",phi)\n",
        "print(\"phiは各φ(x_i)を並べたもの。\")\n"
      ],
      "execution_count": null,
      "outputs": [
        {
          "output_type": "stream",
          "text": [
            "y: 0       1\n",
            "1       1\n",
            "2       1\n",
            "3       1\n",
            "4       1\n",
            "       ..\n",
            "1995    0\n",
            "1996    0\n",
            "1997    0\n",
            "1998    0\n",
            "1999    0\n",
            "Name: sex, Length: 2000, dtype: int64\n",
            "phi: [[  1.         151.54515509  55.34568075]\n",
            " [  1.         153.265639    55.43158324]\n",
            " [  1.         153.27942372  52.21383308]\n",
            " ...\n",
            " [  1.         174.41560883  58.20161107]\n",
            " [  1.         174.92865995  67.55473093]\n",
            " [  1.         177.86618156  69.26604431]]\n",
            "phiは各φ(x_i)を並べたもの。\n"
          ],
          "name": "stdout"
        }
      ]
    },
    {
      "cell_type": "markdown",
      "metadata": {
        "id": "7VVAVQXOE5kh"
      },
      "source": [
        "## モデルの学習(ロジスティック回帰×ニュートン法)"
      ]
    },
    {
      "cell_type": "markdown",
      "metadata": {
        "id": "t31HxDB_9E5X"
      },
      "source": [
        "ニュートン法を使ってロジスティック回帰モデルの学習を行う。"
      ]
    },
    {
      "cell_type": "code",
      "metadata": {
        "id": "UrqJXSlsJZh1",
        "colab": {
          "base_uri": "https://localhost:8080/",
          "height": 1000
        },
        "outputId": "96c8b945-648b-4ac9-9920-a01a372d9fe4"
      },
      "source": [
        "#シグモイド関数\n",
        "def sigmoid(a):\n",
        "  return 1.0/(1 + np.exp(-a))\n",
        "\n",
        "#損失関数 (交差エントロピー誤差関数)\n",
        "def en_error(s,y):\n",
        "  atai = 0\n",
        "  for i in range(len(df)): #和の実行\n",
        "      atai -= np.log(y[i]*s[i] + (1-y[i])*(1-s[i]))  #エラー発生:ValueError: cannot reindex from a duplicate axis\n",
        "  return atai\n",
        "\n",
        "#パラメーターwの初期化\n",
        "#wの初期パラメーターを任意に設定\n",
        "w = np.array([0,0,0])\n",
        "w_ini = w\n",
        "print(\"wの初期値:\",w_ini)\n",
        "\n",
        "\n",
        "wDotPhiZero = np.dot(w.T,phi[0].T)\n",
        "\n",
        "# s: φ(x_i)をシグモイド関数に入れて出力したものをs_iとして、各s_iを縦に並べたもの。sは1×2000行列\n",
        "s = np.vectorize(sigmoid)(np.dot(w.T,phi.T)) # 1×d行列とd×1行列の計算を、データ数個まとめて行う  \n",
        "print(\"sの初期値の中身:\",s) #エラーチェック用\n",
        "\n",
        "#重み付き行列を計算\n",
        "def S_(s): #引数sは以下\n",
        "  S_ij = np.empty(len(s)) #重み付き行列の訓練データの数だけの対角成分だけをかき集めて並べたもの\n",
        "  for i in range(len(s)):\n",
        "    S_ij[i] = s[i] * (1-s[i]) \n",
        "  return np.diag(S_ij) # s[i] * (1-s[i]) を対角成分に持つ対角行列を返す\n",
        "\n",
        "#重み付き行列S\n",
        "S = S_(s)\n",
        "print(\"重み付き行列Sの初期値の中身:\",S) #エラーチェック用\n",
        "    #wの初期値の値によっては、Sの初期値の中身が全部ゼロになってしまう場合がある（エラー？）\n",
        "\n",
        "#ヘッセ行列\n",
        "H = np.dot(np.dot(phi.T,S),phi)\n",
        "\n",
        "#H = np.array([[1,0,0],[0,1,0],[0,0,1]]) #エラーチェック用\n",
        "print(\"ヘッセ行列 H の初期値の中身:\",H) #エラーチェック用\n",
        "invH = np.linalg.inv(H)\n",
        "pinvH = np.linalg.pinv(H)\n",
        "print(\"Hの厳密な逆行列：\",invH)\n",
        "print(\"Hの擬逆行列(一般化逆行列):\",pinvH)\n",
        " #wの初期値の値によっては、Hの初期値の中身が全部ゼロになってしまう場合がある（エラー？）\n",
        "\n",
        "#ニュートン法\n",
        "#wと交差エントロピー誤差の推移の履歴を保存する変数\n",
        "w_list = np.empty((0,3))\n",
        "Ew_list = np.empty(0)\n",
        "\n",
        "for i in range(20):\n",
        "  #wと交差エントロピー誤差の推移の履歴を保存\n",
        "  w_list = np.append(w_list,np.array([w]), axis=0)\n",
        "  Ew_list = np.append(Ew_list,en_error(s,y))\n",
        "\n",
        "  #更新式\n",
        "  w = w - np.dot(np.dot(np.linalg.pinv(H), phi.T), (s - y)) \n",
        "\n",
        "  # sを再計算\n",
        "  s = np.vectorize(sigmoid)(np.dot(w.T,phi.T)).T\n",
        "  # S,Hを再計算\n",
        "  S = S_(s)\n",
        "  H = np.dot(np.dot(phi.T, S),phi)\n",
        " # print(\"i:\",i,\"w:\",w,\"s:\",s,\"S:\",S,\"H:\",H,\"y:\",y,\"en_error:\",en_error(s,y))\n",
        "\n",
        "#wと交差エントロピー誤差の最適解を格納\n",
        "w_termi = w\n",
        "Ew_termi = en_error(s,y)\n",
        "\n",
        "# w0,w1,w2 の推移の履歴\n",
        "w0_list = w_list.T[0]\n",
        "w1_list = w_list.T[1]\n",
        "w2_list = w_list.T[2] \n",
        "print(\"w0:\",w0_list)\n",
        "\n",
        "\n",
        "#ニュートン法の結果\n",
        "print(\"[ニュートン法の結果]\")\n",
        "\n",
        "#wの推移\n",
        "from mpl_toolkits.mplot3d import Axes3D\n",
        "fig = plt.figure()\n",
        "ax0 = fig.add_subplot(111, projection='3d',title=\"The transition of w = (w0, w1, w2)\")\n",
        "ax0.set_xlabel(\"w0\")\n",
        "ax0.set_ylabel(\"w1\")\n",
        "ax0.set_zlabel(\"w2\")\n",
        "ax0.plot(w0_list,w1_list,w2_list,marker=\"o\",linestyle='None')\n",
        "plt.show()\n",
        "\n",
        "print(\"wの推移:\",w_list)\n",
        "\n",
        "#交差エントロピー誤差の推移\n",
        "fig = plt.figure(figsize=(6, 4), dpi=72,\n",
        "                 facecolor='skyblue', linewidth=10, edgecolor='green')\n",
        "\n",
        "ax1 = fig.add_subplot(111,title = \"The transition of Cross-entropy Loss\")\n",
        "ax1.set_xlabel(\"iteration\")\n",
        "ax1.set_ylabel(\"Cross-entropy Loss\")\n",
        "ax1.plot(np.arange(len(Ew_list)),Ew_list)\n",
        "print(\"Ewの推移:\",Ew_list)\n",
        "\n",
        "#最適解\n",
        "print(\"[最適解]\")\n",
        "print(\"最適なw:\",w_termi)\n",
        "print(\"最適なE(w):\",Ew_termi)\n"
      ],
      "execution_count": null,
      "outputs": [
        {
          "output_type": "stream",
          "text": [
            "wの初期値: [0 0 0]\n",
            "sの初期値の中身: [0.5 0.5 0.5 ... 0.5 0.5 0.5]\n",
            "重み付き行列Sの初期値の中身: [[0.25 0.   0.   ... 0.   0.   0.  ]\n",
            " [0.   0.25 0.   ... 0.   0.   0.  ]\n",
            " [0.   0.   0.25 ... 0.   0.   0.  ]\n",
            " ...\n",
            " [0.   0.   0.   ... 0.25 0.   0.  ]\n",
            " [0.   0.   0.   ... 0.   0.25 0.  ]\n",
            " [0.   0.   0.   ... 0.   0.   0.25]]\n",
            "ヘッセ行列 H の初期値の中身: [[5.00000000e+02 8.26029793e+04 3.01680636e+04]\n",
            " [8.26029793e+04 1.36883850e+07 5.02448077e+06]\n",
            " [3.01680636e+04 5.02448077e+06 1.87663196e+06]]\n",
            "Hの厳密な逆行列： [[ 1.23103935e+00 -9.55715416e-03  5.79850724e-03]\n",
            " [-9.55715416e-03  7.84363152e-05 -5.63674311e-05]\n",
            " [ 5.79850724e-03 -5.63674311e-05  5.82358930e-05]]\n",
            "Hの擬逆行列(一般化逆行列): [[ 1.23103935e+00 -9.55715416e-03  5.79850724e-03]\n",
            " [-9.55715416e-03  7.84363152e-05 -5.63674311e-05]\n",
            " [ 5.79850724e-03 -5.63674311e-05  5.82358930e-05]]\n",
            "w0: [  0.         -18.18797486 -29.85479281 -38.72342733 -42.78991637\n",
            " -43.41827936 -43.43087338 -43.43087833 -43.43087833 -43.43087833\n",
            " -43.43087833 -43.43087833 -43.43087833 -43.43087833 -43.43087833\n",
            " -43.43087833 -43.43087833 -43.43087833 -43.43087833 -43.43087833]\n",
            "[ニュートン法の結果]\n"
          ],
          "name": "stdout"
        },
        {
          "output_type": "display_data",
          "data": {
            "image/png": "[encoded data removed]",
            "text/plain": [
              "<Figure size 432x288 with 1 Axes>"
            ]
          },
          "metadata": {
            "tags": [],
            "needs_background": "light"
          }
        },
        {
          "output_type": "stream",
          "text": [
            "wの推移: [[  0.           0.           0.        ]\n",
            " [-18.18797486   0.07913695   0.08475981]\n",
            " [-29.85479281   0.12995929   0.14003663]\n",
            " [-38.72342733   0.16813738   0.18349232]\n",
            " [-42.78991637   0.18542489   0.20402174]\n",
            " [-43.41827936   0.18806947   0.20726448]\n",
            " [-43.43087338   0.18812208   0.20733049]\n",
            " [-43.43087833   0.1881221    0.20733051]\n",
            " [-43.43087833   0.1881221    0.20733051]\n",
            " [-43.43087833   0.1881221    0.20733051]\n",
            " [-43.43087833   0.1881221    0.20733051]\n",
            " [-43.43087833   0.1881221    0.20733051]\n",
            " [-43.43087833   0.1881221    0.20733051]\n",
            " [-43.43087833   0.1881221    0.20733051]\n",
            " [-43.43087833   0.1881221    0.20733051]\n",
            " [-43.43087833   0.1881221    0.20733051]\n",
            " [-43.43087833   0.1881221    0.20733051]\n",
            " [-43.43087833   0.1881221    0.20733051]\n",
            " [-43.43087833   0.1881221    0.20733051]\n",
            " [-43.43087833   0.1881221    0.20733051]]\n",
            "Ewの推移: [1386.29436112  688.07639598  560.26962897  529.29362404  525.94755493\n",
            "  525.88885595  525.88883328  525.88883328  525.88883328  525.88883328\n",
            "  525.88883328  525.88883328  525.88883328  525.88883328  525.88883328\n",
            "  525.88883328  525.88883328  525.88883328  525.88883328  525.88883328]\n",
            "[最適解]\n",
            "最適なw: [-43.43087833   0.1881221    0.20733051]\n",
            "最適なE(w): 525.8888332805886\n"
          ],
          "name": "stdout"
        },
        {
          "output_type": "display_data",
          "data": {
            "image/png": "[encoded data removed]",
            "text/plain": [
              "<Figure size 432x288 with 1 Axes>"
            ]
          },
          "metadata": {
            "tags": []
          }
        }
      ]
    },
    {
      "cell_type": "markdown",
      "metadata": {
        "id": "1lSgrd1XsqUq"
      },
      "source": [
        "交差エントロピー誤差$E(w)$の値は、パラメーターの初期値$w=(0,0,0)$に対して1400付近からスタートしたが、最初の1ステップで急激に減少し、以降単調に減少を続け、たったの数ステップで即座に最小値に到達した。4ステップ以降は525.9付近でほぼ完全に減少が止まっている。"
      ]
    },
    {
      "cell_type": "markdown",
      "metadata": {
        "id": "wNORTPpq8R8e"
      },
      "source": [
        "## 決定境界の決定"
      ]
    },
    {
      "cell_type": "markdown",
      "metadata": {
        "id": "L6zbL-0X0GjF"
      },
      "source": [
        "ロジスティック回帰の考え方によると、$P(C=男|\\phi(x)) = 0.5$を満たす特徴量の集合$\\{x=(x_1,x_2) \\}$を決定境界と考える。$P(C=男|\\phi(x))=\\sigma(w^T \\phi(x))$であるから、クラス分類の不等式は、  \n",
        "$  \\begin{cases}\n",
        "    \\sigma(w^T \\phi(x)) > 0.5 \\rightarrow  & C = 男 \\\\\n",
        "    \\sigma(w^T \\phi(x)) < 0.5 \\rightarrow  & C = 女\n",
        "  \\end{cases}\n",
        "$  \n",
        "$ \\Leftrightarrow \\begin{cases}\n",
        "    w^T \\phi(x) > 0 \\rightarrow  & C = 男 \\\\\n",
        "    w^T \\phi(x) < 0 \\rightarrow  & C = 女\n",
        "  \\end{cases}\n",
        "$  \n",
        "とかける。  \n",
        "決定境界上の$\\phi(x)$は\n",
        "$w^T \\phi(x) = w_0\\phi_0(x) + w_1\\phi_1(x) + w_2\\phi_2(x) = 0$を満たす。$\\phi_0(x) = 1$ に注意して、実数のパラメーター$t$を用いると  \n",
        "$(\\phi_1(x),\\phi_2(x)) = (t,\\frac{- w_0-w_1t}{w_2})$  \n",
        "とかける。よって、決定境界は、\n",
        "$\\{x = (x_1,x_2)\\} = \\{ \\phi_1^{-1}(t),\\phi_2^{-1}(\\frac{- w_0-w_1t}{w_2}) \\}_{t \\in \\mathbb{R}} $  \n",
        "と書ける。($\\phi_i^{-1} : \\mathbb{R} \\rightarrow \\mathbb{R}^d , d=特徴量ベクトルの次元 $)  \n",
        "以上に従って、ロジスティック回帰で求めた$w$ の最適解を使って決定境界を求める。  \n",
        "  \n",
        "  また、訓練した分類器の性能を調べるために、訓練データについて混同行列を計算し、accuracyとTrue Positive rateを計算する。"
      ]
    },
    {
      "cell_type": "code",
      "metadata": {
        "id": "mFzDWN3YUj2l",
        "colab": {
          "base_uri": "https://localhost:8080/",
          "height": 334
        },
        "outputId": "3c04e372-a413-4913-aee4-9cbbc51b8d31"
      },
      "source": [
        "#決定境界(Decision Boundary)を与えるphiのパラメーター表示(引数t:決定境界を与える実数パラメーター)\n",
        "def phi_DB(t):\n",
        "  return np.array([t, - (w[0]/w[2]) - (w[1]/w[2])*t ])\n",
        "\n",
        "#生の特徴量に戻す逆写像(今回はもとから線形分離可能なデータなので、恒等写像である)\n",
        "def phi_inv_1(phi1): #phi(x)=x\n",
        "  return phi1\n",
        "def phi_inv_2(phi2): #phi(x)=x\n",
        "  return phi2\n",
        "\n",
        "#決定境界のパラメーター表示\n",
        "def x_DB(t):\n",
        "  phi_bound = np.empty((2,len(t)))\n",
        "  phi_bound = phi_DB(t)\n",
        "  \n",
        "  #生の特徴量\n",
        "  x_bound = np.empty((2,(len(t))))\n",
        "  x_bound[0] = phi_inv_1(phi_bound[0])\n",
        "  x_bound[1] = phi_inv_2(phi_bound[1])\n",
        "  \n",
        "  return x_bound\n",
        "\n",
        "#t:決定境界の実数パラメーターを格納(xやphi(x)を与える)\n",
        "min = 140\n",
        "max = 200\n",
        "t = np.linspace(min,max,max-min)\n",
        "\n",
        "#決定境界を格納\n",
        "d_bound = x_DB(t)\n",
        "\n",
        "#可視化\n",
        "fig, ax = plt.subplots()\n",
        "# 先ほどの訓練データの可視化\n",
        "ax.set_xlabel(\"height\")\n",
        "ax.set_ylabel(\"weight\")\n",
        "ax.scatter(male[\"height\"],male[\"weight\"] , marker='o', c='b') # 男\n",
        "ax.scatter(female[\"height\"],female[\"weight\"] , marker='s',  c='r') #女\n",
        "#決定境界の可視化\n",
        "ax.plot(d_bound[0], d_bound[1],color=\"black\")\n",
        "ax.text(140,30, \"Decision Boundary: \"+\"weight =\" + str(round((- w[0])/w[2],4)) + \" - \" + str(round(w[1]/w[2],4)) + \"*\" + \"height\" )\n",
        "plt.show()\n",
        "\n",
        "#混同行列(confusion matrix)を求める\n",
        "def confunc(male,female):\n",
        "  tp = 0\n",
        "  fn = 0\n",
        "  tn = 0\n",
        "  fp = 0\n",
        "\n",
        "  m_wgt = male[\"weight\"]\n",
        "  m_wgt_bd = -(w[0]/w[2]) - (w[1]/w[2])*male[\"height\"]\n",
        "  f_wgt = female[\"weight\"]\n",
        "  f_wgt_bd = -(w[0]/w[2]) - (w[1]/w[2])*female[\"height\"]\n",
        "  \n",
        "\n",
        "  for i in range(len(m_wgt)):\n",
        "    if(m_wgt[i] >= m_wgt_bd[i]):\n",
        "      tp += 1\n",
        "    else:\n",
        "      fn += 1\n",
        "\n",
        "  for i in range(len(f_wgt)):\n",
        "    if(f_wgt[i] < f_wgt_bd[i]):\n",
        "      tn += 1\n",
        "    else:\n",
        "      fp += 1\n",
        "  \n",
        "  accuracy = (tp+tn)/(tp+fn+fp+tn)\n",
        "  tp_rate = tp/(tp + fn)\n",
        "\n",
        "  return tp,fn,tn,fp,accuracy,tp_rate\n",
        "\n",
        "#混同行列、accuracy,True Positive rate\n",
        "tp,fn,tn,fp,accuracy,tp_rate = confunc(male,female)\n",
        "print(\"True Positive:\",tp,\"False Negative:\",fn,\"False Positive:\",fp,\"True Negative:\",tn)\n",
        "print(\"accuracy:\", accuracy)\n",
        "print(\"True Positive rate:\",tp_rate)"
      ],
      "execution_count": null,
      "outputs": [
        {
          "output_type": "display_data",
          "data": {
            "image/png": "[encoded data removed]",
            "text/plain": [
              "<Figure size 432x288 with 1 Axes>"
            ]
          },
          "metadata": {
            "tags": [],
            "needs_background": "light"
          }
        },
        {
          "output_type": "stream",
          "text": [
            "True Positive: 892 False Negative: 108 False Positive: 113 True Negative: 887\n",
            "accuracy: 0.8895\n",
            "True Positive rate: 0.892\n"
          ],
          "name": "stdout"
        }
      ]
    },
    {
      "cell_type": "markdown",
      "metadata": {
        "id": "p2V6mkLfPc7Z"
      },
      "source": [
        "訓練データに対して、分類器のAccuracyは約0.89,True Positive rate もほぼ同じで約0.89となった。"
      ]
    },
    {
      "cell_type": "markdown",
      "metadata": {
        "id": "Noex04gp4H8Z"
      },
      "source": [
        "## 分類器のテスト\n",
        "訓練データのロジスティック回帰によって得られた分類器が適切に機能するかテストする。(検証は実施しない)  \n",
        "テストの方法は以下の通りである：  \n",
        "  \n",
        "・様々な無数のテストデータセットを生成し、各データセットについて分類器のAccuracyとTrue Positive rateを調べる。どのデータセットに対しても、AccuracyやTrue Positive rateが（0～1の範囲で）安定して高い値を示せば、分類器として性能が良いと言える。  \n",
        "・現実のサンプリングにおけるサンプル数は、試行毎に毎回異なるし、ラベル毎(男と女)にも異なるのが自然である。よって、各試行のテストデータセットを生成する際には、そのサンプル数は乱数を使ってランダムに決めることとする。  \n",
        "・通常、上記のような自然なサンプリングの場合、分類器としての性能を測定する指標としてより適切なのはTrue Positive rateである。"
      ]
    },
    {
      "cell_type": "code",
      "metadata": {
        "id": "0JWPItByP99d",
        "colab": {
          "base_uri": "https://localhost:8080/",
          "height": 1000
        },
        "outputId": "28a7a51d-5cd8-46d1-8ba3-e001c4235daa"
      },
      "source": [
        "\n",
        "\n",
        "#人工のデータセットを生成する関数(引数に乱数の種を指定できる)\n",
        "def create_data(someSeed):\n",
        "  np.random.seed(someSeed)\n",
        "\n",
        "  #テストデータの個数をランダムにする\n",
        "  num_test_m = np.random.randint(low=0, high=1000, size=None)\n",
        "  num_test_f = np.random.randint(low=0, high=1000, size=None)\n",
        "  male = pd.DataFrame()\n",
        "  female = pd.DataFrame()\n",
        "   \n",
        " \n",
        "  m_height = np.random.normal(171.7,6.6,num_test_m)\n",
        "  f_height = np.random.normal(158.3,5.7,num_test_f)\n",
        "  m_bmi = np.random.normal(23.12,2,num_test_m)\n",
        "  f_bmi = np.random.normal(20.82,2,num_test_f)\n",
        "\n",
        "  male[\"height\"] =np.sort(m_height)\n",
        "  male[\"weight\"] = (male[\"height\"] * 0.01) ** 2 * m_bmi\n",
        "  male[\"sex\"] = 1 #男：1,女:0とする\n",
        "\n",
        "  female[\"height\"] = np.sort(f_height)\n",
        "  female[\"weight\"] = (female[\"height\"] * 0.01) ** 2 * f_bmi\n",
        "  female[\"sex\"] = 0 #男：1,女:0とする\n",
        "  \n",
        "  return male,female\n",
        "\n",
        "#乱数の種に対してデータを生成し、accuracyとtp_rateを返す関数\n",
        "def cons(someSeed):\n",
        "  male,female = create_data(someSeed)\n",
        "  tp,fn,tn,fp,accuracy,tp_rate = confunc(male,female)\n",
        "  #print(\"num of male:\",len(male),\"female:\",len(female))\n",
        "  return accuracy,tp_rate\n",
        "\n",
        "#各試行に対するaccuracyとTrue Positive rate\n",
        "rs_list = np.empty(0)\n",
        "acc_list = np.empty(0)\n",
        "tp_rate_list = np.empty(0)\n",
        "\n",
        "print(\"Random Seed No:\",\"accuracy\",\",\",\"tp_rate\")\n",
        "for i in range(100):\n",
        "  accuracy,tp_rate = cons(i)\n",
        "\n",
        "  rs_list = np.append(rs_list,i)\n",
        "  acc_list = np.append(acc_list,accuracy)\n",
        "  tp_rate_list = np.append(tp_rate_list,tp_rate)\n",
        "\n",
        "  print(i,\":\",accuracy,\",\",tp_rate)\n",
        "\n",
        "#accuracyとTrue Positive rateの平均値、標準偏差、標準誤差\n",
        "print(\"[mean ± SD]\")\n",
        "print(\"accuracy = \",np.mean(acc_list) ,\"±\",np.std(acc_list))\n",
        "print(\"True Positive rate = \",np.mean(tp_rate_list),\"±\",np.std(tp_rate_list))\n",
        "print(\"[mean ± SE]\")\n",
        "print(\"accuracy = \",np.mean(acc_list) ,\"±\",np.std(acc_list)/np.sqrt(len(acc_list)))\n",
        "print(\"True Positive rate = \",np.mean(tp_rate_list),\"±\",np.std(tp_rate_list)/np.sqrt(len(tp_rate_list)))\n",
        "\n",
        "\n",
        "fig, ax_acc = plt.subplots() \n",
        "ax_acc.set_ylim([0,1])\n",
        "ax_acc.set_xlabel(\"trials (= random seeds)\")\n",
        "ax_acc.set_ylabel(\"accuracies\")\n",
        "ax_acc.plot(rs_list,acc_list,color=\"black\")\n",
        "\n",
        "fig, ax_tp = plt.subplots() \n",
        "ax_tp.set_ylim([0,1])\n",
        "ax_tp.set_xlabel(\"trials (= random seeds)\")\n",
        "ax_tp.set_ylabel(\"True Positive rate\")\n",
        "ax_tp.plot(rs_list,tp_rate_list,color=\"black\")\n",
        "plt.show()\n",
        "\n",
        "print(\"\")\n",
        "print(\"\")\n",
        "print(\"－－－－－－－－－以下は、無意味な文字列－－－－－－－－－\")\n",
        "\n",
        "\"\"\"\n",
        "#可視化関数\n",
        "def visualize(someSeed,axj):\n",
        "  male, female, df = create_data(someSeed)\n",
        "  axj.set_title(\"Radom Seed No.\" + str(someSeed)) \n",
        "  axj.set_xlabel(\"height\")\n",
        "  axj.set_ylabel(\"weight\")\n",
        "  axj.scatter(male[\"height\"],male[\"weight\"],marker = \"o\",c=\"b\")\n",
        "  axj.scatter(female[\"height\"],female[\"weight\"],marker = \"s\",c=\"r\")\n",
        "\n",
        "#可視化\n",
        "fig, ax1 = plt.subplots()\n",
        "fig, ax2 = plt.subplots()\n",
        "fig, ax3 = plt.subplots()\n",
        "fig, ax4 = plt.subplots()\n",
        "\n",
        "#テストデータを生成してプロット\n",
        "print(\"適当な乱数の種で生成したテストデータにてテスト\")\n",
        "visualize(5,ax1)\n",
        "visualize(24,ax2)\n",
        "visualize(11,ax3)\n",
        "visualize(6,ax4)\n",
        "\n",
        "\n",
        "#決定境界の可視化\n",
        "ax1.plot(d_bound[0], d_bound[1],color=\"black\")\n",
        "ax1.text(140,30, \"Decision Boundary: \"+\"weight =\" + str(round((- w[0])/w[2],4)) + \" - \" + str(round(w[1]/w[2],4)) + \"*\" + \"height\" )\n",
        "\n",
        "ax2.plot(d_bound[0], d_bound[1],color=\"black\")\n",
        "ax2.text(140,30, \"Decision Boundary: \"+\"weight =\" + str(round((- w[0])/w[2],4)) + \" - \" + str(round(w[1]/w[2],4)) + \"*\" + \"height\" )\n",
        "\n",
        "ax3.plot(d_bound[0], d_bound[1],color=\"black\")\n",
        "ax3.text(140,30, \"Decision Boundary: \"+\"weight =\" + str(round((- w[0])/w[2],4)) + \" - \" + str(round(w[1]/w[2],4)) + \"*\" + \"height\" )\n",
        "\n",
        "ax4.plot(d_bound[0], d_bound[1],color=\"black\")\n",
        "ax4.text(140,30, \"Decision Boundary: \"+\"weight =\" + str(round((- w[0])/w[2],4)) + \" - \" + str(round(w[1]/w[2],4)) + \"*\" + \"height\" )\n",
        "\n",
        "\n",
        "plt.show()\n",
        "\n",
        "\"\"\""
      ],
      "execution_count": null,
      "outputs": [
        {
          "output_type": "stream",
          "text": [
            "Random Seed No: accuracy , tp_rate\n",
            "0 : 0.8704746580852776 , 0.8464912280701754\n",
            "1 : 0.9044117647058824 , 0.918918918918919\n",
            "2 : 0.8892086330935252 , 0.8154761904761905\n",
            "3 : 0.8914174252275683 , 0.8810068649885584\n",
            "4 : 0.9290540540540541 , 0.9180327868852459\n",
            "5 : 0.8779123951537745 , 0.8708189158016147\n",
            "6 : 0.8851142680667079 , 0.8741721854304636\n",
            "7 : 0.9029649595687331 , 0.8571428571428571\n",
            "8 : 0.8761061946902655 , 0.8625277161862528\n",
            "9 : 0.8972602739726028 , 0.8952879581151832\n",
            "10 : 0.9128205128205128 , 0.9132075471698113\n",
            "11 : 0.8873152709359606 , 0.8783930510314875\n",
            "12 : 0.8880794701986755 , 0.8647686832740213\n",
            "13 : 0.896887159533074 , 0.8757396449704142\n",
            "14 : 0.8795430944963655 , 0.8626817447495961\n",
            "15 : 0.887881286067601 , 0.8530701754385965\n",
            "16 : 0.8977149075081611 , 0.8913362701908958\n",
            "17 : 0.8773148148148148 , 0.884430176565008\n",
            "18 : 0.8865619546247818 , 0.8791946308724832\n",
            "19 : 0.8818255908720456 , 0.8760330578512396\n",
            "20 : 0.9034981905910736 , 0.8788732394366198\n",
            "21 : 0.8724489795918368 , 0.8668730650154799\n",
            "22 : 0.8859390363815143 , 0.8847457627118644\n",
            "23 : 0.8893044128646223 , 0.8705882352941177\n",
            "24 : 0.89749430523918 , 0.8708133971291866\n",
            "25 : 0.8844444444444445 , 0.8863636363636364\n",
            "26 : 0.887620719929763 , 0.876979293544458\n",
            "27 : 0.9076923076923077 , 0.9473684210526315\n",
            "28 : 0.91343669250646 , 0.9260700389105059\n",
            "29 : 0.8735207100591716 , 0.8644240570846076\n",
            "30 : 0.899673735725938 , 0.8944099378881988\n",
            "31 : 0.8720666161998486 , 0.8573407202216067\n",
            "32 : 0.8845553822152886 , 0.859697386519945\n",
            "33 : 0.8807785888077859 , 0.85\n",
            "34 : 0.87569573283859 , 0.8657074340527577\n",
            "35 : 0.8739837398373984 , 0.8681626928471248\n",
            "36 : 0.8844621513944223 , 0.8728682170542635\n",
            "37 : 0.8822605965463108 , 0.8880351262349067\n",
            "38 : 0.9015873015873016 , 0.8633093525179856\n",
            "39 : 0.8895582329317269 , 0.8778625954198473\n",
            "40 : 0.8770642201834863 , 0.8619631901840491\n",
            "41 : 0.8826017979904812 , 0.8625\n",
            "42 : 0.8901303538175046 , 0.8921568627450981\n",
            "43 : 0.8987889273356401 , 0.8899521531100478\n",
            "44 : 0.8790389395194698 , 0.8616751269035533\n",
            "45 : 0.8772563176895307 , 0.8722966014418125\n",
            "46 : 0.9035087719298246 , 0.8783068783068783\n",
            "47 : 0.8881388621022179 , 0.8\n",
            "48 : 0.906046511627907 , 0.88671875\n",
            "49 : 0.8946894689468947 , 0.8755868544600939\n",
            "50 : 0.884417808219178 , 0.877906976744186\n",
            "51 : 0.8892988929889298 , 0.8771929824561403\n",
            "52 : 0.8818244644091223 , 0.844311377245509\n",
            "53 : 0.8808095952023988 , 0.8472998137802608\n",
            "54 : 0.8944954128440367 , 0.8738738738738738\n",
            "55 : 0.8935226264418811 , 0.8655097613882863\n",
            "56 : 0.8952879581151832 , 0.8898007033997656\n",
            "57 : 0.8853615520282186 , 0.8687179487179487\n",
            "58 : 0.8797327394209354 , 0.8655043586550436\n",
            "59 : 0.9057851239669421 , 0.9152542372881356\n",
            "60 : 0.8518518518518519 , 0.8341463414634146\n",
            "61 : 0.8860648553900088 , 0.8543371522094927\n",
            "62 : 0.8826714801444043 , 0.8811320754716981\n",
            "63 : 0.8875 , 0.8409090909090909\n",
            "64 : 0.8848275862068965 , 0.8694690265486725\n",
            "65 : 0.8721804511278195 , 0.8722358722358723\n",
            "66 : 0.9033018867924528 , 0.75\n",
            "67 : 0.8834541062801933 , 0.8694610778443114\n",
            "68 : 0.8924003009781791 , 0.8784596871239471\n",
            "69 : 0.9027237354085603 , 0.8518518518518519\n",
            "70 : 0.8777372262773723 , 0.8832335329341318\n",
            "71 : 0.9017175572519084 , 0.897196261682243\n",
            "72 : 0.8991262907069102 , 0.8834745762711864\n",
            "73 : 0.8853383458646616 , 0.8856209150326797\n",
            "74 : 0.900280112044818 , 0.8974082073434125\n",
            "75 : 0.8847402597402597 , 0.8790322580645161\n",
            "76 : 0.8787593984962406 , 0.8722139673105498\n",
            "77 : 0.8778110944527736 , 0.8624484181568088\n",
            "78 : 0.8922815945716709 , 0.8885754583921015\n",
            "79 : 0.8665413533834586 , 0.8688046647230321\n",
            "80 : 0.8980716253443526 , 0.8914285714285715\n",
            "81 : 0.8948051948051948 , 0.8874251497005988\n",
            "82 : 0.8932874354561101 , 0.8778625954198473\n",
            "83 : 0.9076175040518638 , 0.9024390243902439\n",
            "84 : 0.8911886457717327 , 0.8763326226012793\n",
            "85 : 0.8735632183908046 , 0.8729281767955801\n",
            "86 : 0.9169960474308301 , 0.8918918918918919\n",
            "87 : 0.8998778998778999 , 0.8930041152263375\n",
            "88 : 0.8867924528301887 , 0.8851626016260162\n",
            "89 : 0.8850957535387177 , 0.8819672131147541\n",
            "90 : 0.8848167539267016 , 0.8812572759022119\n",
            "91 : 0.9004629629629629 , 0.9044943820224719\n",
            "92 : 0.926829268292683 , 0.9180327868852459\n",
            "93 : 0.8815104166666666 , 0.8741092636579573\n",
            "94 : 0.8900675024108003 , 0.8755364806866953\n",
            "95 : 0.887624466571835 , 0.8866995073891626\n",
            "96 : 0.8897196261682243 , 0.8690476190476191\n",
            "97 : 0.8860510805500982 , 0.8444444444444444\n",
            "98 : 0.8706225680933852 , 0.8565400843881856\n",
            "99 : 0.8875739644970414 , 0.890795631825273\n",
            "[mean ± SD]\n",
            "accuracy =  0.8893157478526369 ± 0.012405920062795988\n",
            "True Positive rate =  0.8747716153814283 ± 0.024524271537282344\n",
            "[mean ± SE]\n",
            "accuracy =  0.8893157478526369 ± 0.0012405920062795988\n",
            "True Positive rate =  0.8747716153814283 ± 0.002452427153728234\n"
          ],
          "name": "stdout"
        },
        {
          "output_type": "display_data",
          "data": {
            "image/png": "[encoded data removed]",
            "text/plain": [
              "<Figure size 432x288 with 1 Axes>"
            ]
          },
          "metadata": {
            "tags": [],
            "needs_background": "light"
          }
        },
        {
          "output_type": "display_data",
          "data": {
            "image/png": "[encoded data removed]",
            "text/plain": [
              "<Figure size 432x288 with 1 Axes>"
            ]
          },
          "metadata": {
            "tags": [],
            "needs_background": "light"
          }
        },
        {
          "output_type": "stream",
          "text": [
            "\n",
            "\n",
            "－－－－－－－－－以下は、無意味な文字列－－－－－－－－－\n"
          ],
          "name": "stdout"
        },
        {
          "output_type": "execute_result",
          "data": {
            "application/vnd.google.colaboratory.intrinsic+json": {
              "type": "string"
            },
            "text/plain": [
              "'\\n#可視化関数\\ndef visualize(someSeed,axj):\\n  male, female, df = create_data(someSeed)\\n  axj.set_title(\"Radom Seed No.\" + str(someSeed)) \\n  axj.set_xlabel(\"height\")\\n  axj.set_ylabel(\"weight\")\\n  axj.scatter(male[\"height\"],male[\"weight\"],marker = \"o\",c=\"b\")\\n  axj.scatter(female[\"height\"],female[\"weight\"],marker = \"s\",c=\"r\")\\n\\n#可視化\\nfig, ax1 = plt.subplots()\\nfig, ax2 = plt.subplots()\\nfig, ax3 = plt.subplots()\\nfig, ax4 = plt.subplots()\\n\\n#テストデータを生成してプロット\\nprint(\"適当な乱数の種で生成したテストデータにてテスト\")\\nvisualize(5,ax1)\\nvisualize(24,ax2)\\nvisualize(11,ax3)\\nvisualize(6,ax4)\\n\\n\\n#決定境界の可視化\\nax1.plot(d_bound[0], d_bound[1],color=\"black\")\\nax1.text(140,30, \"Decision Boundary: \"+\"weight =\" + str(round((- w[0])/w[2],4)) + \" - \" + str(round(w[1]/w[2],4)) + \"*\" + \"height\" )\\n\\nax2.plot(d_bound[0], d_bound[1],color=\"black\")\\nax2.text(140,30, \"Decision Boundary: \"+\"weight =\" + str(round((- w[0])/w[2],4)) + \" - \" + str(round(w[1]/w[2],4)) + \"*\" + \"height\" )\\n\\nax3.plot(d_bound[0], d_bound[1],color=\"black\")\\nax3.text(140,30, \"Decision Boundary: \"+\"weight =\" + str(round((- w[0])/w[2],4)) + \" - \" + str(round(w[1]/w[2],4)) + \"*\" + \"height\" )\\n\\nax4.plot(d_bound[0], d_bound[1],color=\"black\")\\nax4.text(140,30, \"Decision Boundary: \"+\"weight =\" + str(round((- w[0])/w[2],4)) + \" - \" + str(round(w[1]/w[2],4)) + \"*\" + \"height\" )\\n\\n\\nplt.show()\\n\\n'"
            ]
          },
          "metadata": {
            "tags": []
          },
          "execution_count": 41
        }
      ]
    },
    {
      "cell_type": "markdown",
      "metadata": {
        "id": "IRUrH3__ccRV"
      },
      "source": [
        "AccuracyよりTrue Positive rateの方が平均が若干低く、値のブレ(標準偏差)も大きいが、どちらも概ね0.85～0.90の範囲に収まっている。この分類器は、約85%の正答率を持つ、といえる。"
      ]
    },
    {
      "cell_type": "markdown",
      "metadata": {
        "id": "H5FqZzdgjC7V"
      },
      "source": [
        "# 備考・感想・雑記"
      ]
    },
    {
      "cell_type": "markdown",
      "metadata": {
        "id": "Q0903Y0pnDrb"
      },
      "source": [
        "シグモイド関数を使って重み付き行列$S$を計算する過程でトラブルがあった。パラメーター$w$の初期値の値、および$w\\phi$の値がある境界を超えると、何故か$S$がゼロ行列として計算されてしまい、ヘッセ行列$H$もゼロ行列となってしまい、$H$の逆行列およびニュートン法の更新式を定義できない。パラメーターをある境界値よりも小さな値に調整すると、この問題は起こらない。恐らく、PythonもしくはNumPyの計算桁数に関する仕様の問題だと思われる。根本的な原因は分からなかったため、「$w\\phi$の値がつねに小さな値に収まるようにパラメーターの初期値を調整する」というその場しのぎの解決策を講じることにした。"
      ]
    },
    {
      "cell_type": "markdown",
      "metadata": {
        "id": "FuipZ7KQjJ5C"
      },
      "source": [
        "ヘッセ行列を求める過程で問題が発生した。パラメーター$w$の値と訓練データの特徴量$\\Phi$の値によっては、得られるヘッセ行列が正則でない場合があり、その場合はニュートン法の更新式を定義することが出来ない。コンソールには、該当箇所に以下のようなエラーが検出された：\n",
        "LinAlgError: Singular matrix\n",
        "解決の方針は、**「ヘッセ行列が必ず正則になるような、理論的な条件およびプログラム実装上の条件を突き止めて、パラメーター$w$が取りうる値の範囲に制限を加えること**」であると思われる。しかし、その条件が分からず、解決出来なかった。(正則でないヘッセ行列に出会ったときどうするべきかhttps://dash.harvard.edu/bitstream/handle/1/4214881/King_HessianNotInvertible.pdf?sequence=2)\n",
        "【追記】\n",
        "一般化逆行列という道具の存在を知り、使うことにした。これを使うと、逆行列を求められない状況(正則でないなど)で発生するはずのエラーをスルーすることが出来る。\n"
      ]
    },
    {
      "cell_type": "markdown",
      "metadata": {
        "id": "cOp6A0-wqXio"
      },
      "source": [
        "交差エントロピー誤差関数を定義する過程で問題が発生した。交差エントロピー誤差関数を書き下したコードに対して、以下のようなエラーが検出された：\n",
        "ValueError: cannot reindex from a duplicate axis\n",
        "調べてみたが、何が問題なのか分からず、解決できなかった。  \n",
        "追記:直接の原因になっていたのか分からないが、訓練データを生成する際に複数のDataFrameを結合するとき、pandasの仕様上indexが重複してしまうらしい。これを回避するためには、DataFrameを結合する際は毎回何らかの方法でindexの振りなおしをすると良い。あるDataFrame(df)のindexが重複しているかは、df.index.duplicated()で調べられる。"
      ]
    },
    {
      "cell_type": "markdown",
      "metadata": {
        "id": "-ngLN17x0rc6"
      },
      "source": [
        "追記:\n",
        "上記の様々なトラブルは、以下が原因だったようである:\n",
        "・交差エントロピー誤差関数en_errorのコードに、インデントのミスがあった。\n",
        "・パラメーターの初期値$w^{0}$の選び方の問題で、ニュートン法のステップが進んでパラメーターが変化する時に新たに計算される$s_i = \\sigma(w^T_{i}\\phi$の値が、上述の計算の分解能を超えて極端に1に近付いてしまい、新たな$S$,$H$がゼロ行列として計算されてしまったため、と思われる。試しに、パラメーターの初期値を$w^{0}=(0,0,0)^T$に取り直してみたところ、各ステップで$S$と$H$はゼロ行列にならず、交差エントロピー誤差関数の値が徐々に減少してある値に漸近していく様子を観察できた。アルゴリズムは正常な動作したようである。"
      ]
    },
    {
      "cell_type": "markdown",
      "metadata": {
        "id": "_2lvg56T3Bvo"
      },
      "source": [
        "上述の「計算の分解能を超えているためにヘッセ行列がゼロになってしまった」という仮説だが、Wolfram Alphaを使って計算してみたところ、せいぜい小数点以下30桁程度に収まっていたので、少なくとも浮動小数点の小数点桁数の限界($10^{-308}$の桁まで可能)というわけではないようである。根本的な原因ははっきり分からなかった。"
      ]
    },
    {
      "cell_type": "markdown",
      "metadata": {
        "id": "GyQRdYOS0joY"
      },
      "source": [
        "おそらく一般的には、損失関数の形が複雑な形をしている場合など、何らかの方法(関数を解析的に分析するなど)である程度当たりを付けて初期パラメーターの選び方を工夫しなければ、最小でない極小点に収束してしまうことも考えられる。"
      ]
    },
    {
      "cell_type": "markdown",
      "metadata": {
        "id": "47dMZlMtoLsp"
      },
      "source": [
        "print(\"w・phi[0]の値:\",wDotPhiZero) #エラーチェック用\n",
        "print(\"w・phi[i]の値が30(w_1=0.2)を超えるあたりから、sigmoid関数の（numpy上での？）分解能の限界に近づく。45(w_1=0.3)では完全アウトで、Sがゼロ行列として認識されてしまう。\")\n",
        "print(\"しかし、Wolfram Alphaによるとw・phi[i]=45では10^{-30}程度で、浮動小数点としては全然余裕がある。(浮動小数点は10^{-308}くらいまで計算できる)よくわからない。\")\n",
        "print(\"とにかく、どうやら、pythonが使っている計算方法だと、a=45、46の間に、σ(a) = 1となってしまう境界があるらしい。Wolfram Alphaによると浮動小数点の有効数字の限界には遠く及ばないにも関わらず。\")\n",
        "print(\"その場しのぎの解決策→σ(a)の引数aが30以下に収まるように、wベクトルの値を制限する。\")\n"
      ]
    },
    {
      "cell_type": "markdown",
      "metadata": {
        "id": "rfZrWRCOt4zM"
      },
      "source": [
        "実装自体にかなり時間がかかってしまった。よりスムーズに進められるように、コーディングやエラーチェックの熟練に励みたい。"
      ]
    },
    {
      "cell_type": "markdown",
      "metadata": {
        "id": "N-jGen2csFjk"
      },
      "source": [
        "一般化逆行列(擬逆行列)が実際に使われる場面を観察できた。"
      ]
    }
  ]
}